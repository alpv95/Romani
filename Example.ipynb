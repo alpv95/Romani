{
 "cells": [
  {
   "cell_type": "code",
   "execution_count": 1,
   "metadata": {
    "collapsed": true
   },
   "outputs": [],
   "source": [
    "import sys\n",
    "import os\n",
    "import matplotlib.pyplot as plt\n",
    "%matplotlib inline\n",
    "\n",
    "import numpy as np\n",
    "from jet_fns import *"
   ]
  },
  {
   "cell_type": "code",
   "execution_count": null,
   "metadata": {
    "collapsed": true
   },
   "outputs": [],
   "source": [
    "#Run single\n",
    "x0 = [6.44651e+37, 1.58650e+10, 1.97865e+00, 3.27639e+01, 1.73750e+01, 7.34230e-05, 1.58989e+00, 1.20151e+00, 5.11E5]\n",
    "S, IC = run_ssc(x0, nblocks=1, seed=41)"
   ]
  },
  {
   "cell_type": "code",
   "execution_count": null,
   "metadata": {
    "collapsed": true
   },
   "outputs": [],
   "source": [
    "#Run multiple\n",
    "N = 10\n",
    "S_final = np.zeros((4,50))\n",
    "IC_final = np.zeros((4,50))\n",
    "for seed in np.random.randint(10000, size=N):\n",
    "    ## [W_j [W], E_max [eV], alpha, theta_open_p [deg], gamma_bulk, B0 [T], theta_obs [deg], A_eq, E_min [eV]]\n",
    "    params = [6.44651e+37, 1.58650e+10, 1.97865e+00, 3.27639e+01, 1.73750e+01, \n",
    "          7.34230e-05, 1.58989e+00, 1.20151e+00, 5.11E5]\n",
    "    S, IC = run_ssc(params, nblocks=1, seed=seed)\n",
    "    S_final += S\n",
    "    IC_final += IC\n",
    "    \n",
    "#Averaging stokes parameters over all of the N runs\n",
    "S = S_final / N\n",
    "IC = IC_final / N\n",
    "#Can and should also calculate standard deviation for the plots below "
   ]
  },
  {
   "cell_type": "markdown",
   "metadata": {},
   "source": [
    "To plot etc.:"
   ]
  },
  {
   "cell_type": "code",
   "execution_count": null,
   "metadata": {
    "collapsed": true
   },
   "outputs": [],
   "source": [
    "#Form combined stokes parameters (IC + S)\n",
    "f = np.logspace(-3,9, 500)\n",
    "Tot = np.stack([f, np.interp(f, S[0], S[1]) + np.interp(f, IC[0], IC[1]),\n",
    "                np.interp(f, S[0], S[2]) + np.interp(f, IC[0], IC[2]),\n",
    "                np.interp(f, S[0], S[3]) + np.interp(f, IC[0], IC[3]),])"
   ]
  },
  {
   "cell_type": "code",
   "execution_count": 6,
   "metadata": {},
   "outputs": [
    {
     "ename": "NameError",
     "evalue": "name 'S' is not defined",
     "output_type": "error",
     "traceback": [
      "\u001b[0;31m---------------------------------------------------------------------------\u001b[0m",
      "\u001b[0;31mNameError\u001b[0m                                 Traceback (most recent call last)",
      "\u001b[0;32m<ipython-input-6-80e3339c1411>\u001b[0m in \u001b[0;36m<module>\u001b[0;34m()\u001b[0m\n\u001b[1;32m      1\u001b[0m \u001b[0;31m#Calculate PA and Pi from Stokes parameters.\u001b[0m\u001b[0;34m\u001b[0m\u001b[0;34m\u001b[0m\u001b[0m\n\u001b[0;32m----> 2\u001b[0;31m \u001b[0mS_Pi\u001b[0m \u001b[0;34m=\u001b[0m \u001b[0mnp\u001b[0m\u001b[0;34m.\u001b[0m\u001b[0msqrt\u001b[0m\u001b[0;34m(\u001b[0m\u001b[0mS\u001b[0m\u001b[0;34m[\u001b[0m\u001b[0;36m2\u001b[0m\u001b[0;34m]\u001b[0m\u001b[0;34m**\u001b[0m\u001b[0;36m2\u001b[0m \u001b[0;34m+\u001b[0m \u001b[0mS\u001b[0m\u001b[0;34m[\u001b[0m\u001b[0;36m3\u001b[0m\u001b[0;34m]\u001b[0m\u001b[0;34m**\u001b[0m\u001b[0;36m2\u001b[0m\u001b[0;34m)\u001b[0m \u001b[0;34m/\u001b[0m \u001b[0mS\u001b[0m\u001b[0;34m[\u001b[0m\u001b[0;36m1\u001b[0m\u001b[0;34m]\u001b[0m\u001b[0;34m\u001b[0m\u001b[0m\n\u001b[0m\u001b[1;32m      3\u001b[0m \u001b[0mIC_Pi\u001b[0m \u001b[0;34m=\u001b[0m \u001b[0mnp\u001b[0m\u001b[0;34m.\u001b[0m\u001b[0msqrt\u001b[0m\u001b[0;34m(\u001b[0m\u001b[0mIC\u001b[0m\u001b[0;34m[\u001b[0m\u001b[0;36m2\u001b[0m\u001b[0;34m]\u001b[0m\u001b[0;34m**\u001b[0m\u001b[0;36m2\u001b[0m \u001b[0;34m+\u001b[0m \u001b[0mIC\u001b[0m\u001b[0;34m[\u001b[0m\u001b[0;36m3\u001b[0m\u001b[0;34m]\u001b[0m\u001b[0;34m**\u001b[0m\u001b[0;36m2\u001b[0m\u001b[0;34m)\u001b[0m \u001b[0;34m/\u001b[0m \u001b[0mIC\u001b[0m\u001b[0;34m[\u001b[0m\u001b[0;36m1\u001b[0m\u001b[0;34m]\u001b[0m\u001b[0;34m\u001b[0m\u001b[0m\n\u001b[1;32m      4\u001b[0m \u001b[0mTot_Pi\u001b[0m \u001b[0;34m=\u001b[0m \u001b[0mnp\u001b[0m\u001b[0;34m.\u001b[0m\u001b[0msqrt\u001b[0m\u001b[0;34m(\u001b[0m\u001b[0mTot\u001b[0m\u001b[0;34m[\u001b[0m\u001b[0;36m2\u001b[0m\u001b[0;34m]\u001b[0m\u001b[0;34m**\u001b[0m\u001b[0;36m2\u001b[0m \u001b[0;34m+\u001b[0m \u001b[0mTot\u001b[0m\u001b[0;34m[\u001b[0m\u001b[0;36m3\u001b[0m\u001b[0;34m]\u001b[0m\u001b[0;34m**\u001b[0m\u001b[0;36m2\u001b[0m\u001b[0;34m)\u001b[0m \u001b[0;34m/\u001b[0m \u001b[0mTot\u001b[0m\u001b[0;34m[\u001b[0m\u001b[0;36m1\u001b[0m\u001b[0;34m]\u001b[0m\u001b[0;34m\u001b[0m\u001b[0m\n\u001b[1;32m      5\u001b[0m \u001b[0;34m\u001b[0m\u001b[0m\n",
      "\u001b[0;31mNameError\u001b[0m: name 'S' is not defined"
     ]
    }
   ],
   "source": [
    "#Calculate PA and Pi from Stokes parameters.\n",
    "S_Pi = np.sqrt(S[2]**2 + S[3]**2) / S[1]\n",
    "IC_Pi = np.sqrt(IC[2]**2 + IC[3]**2) / IC[1]\n",
    "Tot_Pi = np.sqrt(Tot[2]**2 + Tot[3]**2) / Tot[1]\n",
    "\n",
    "S_PA = 0.5*np.arctan2(S[3],S[2])\n",
    "IC_PA = 0.5*np.arctan2(IC[3],IC[2])\n",
    "Tot_PA = 0.5*np.arctan2(Tot[3],Tot[2])\n",
    "\n",
    "#Need distance conversion to get blazar flux right, must change depending on blazar being fit.\n",
    "# J0211 ------ d_Blazar = 1000E6*3.08E18 \n",
    "                #z = 0.2\n",
    "# S5 ------ d_Blazar = 1627E6*3.08E18 \n",
    "                #z = 0.31\n",
    "# TXS ------ d_Blazar = 1789E6*3.08E18 \n",
    "                #z = 0.3365\n",
    "\n",
    "d_Blazar = 1627E6*3.08E18 \n",
    "z = 0.31\n",
    "dist_factor = 1.0E7*(1.0/((4.0*np.pi*d_Blazar**2.0)*(1.0+z)**2.0))\n",
    "\n",
    "#Convert emitted flux by distance factor\n",
    "S_P = S[1] * dist_factor\n",
    "IC_P = IC[1] * dist_factor\n",
    "Tot_P = Tot[1] * dist_factor\n",
    "\n",
    "#Plot everything\n",
    "fig, (ax1,ax2,ax3) = plt.subplots(figsize=(6,8), nrows=3, gridspec_kw={'hspace': 0, 'height_ratios': (0.25,0.25,0.5)})\n",
    "\n",
    "ax1.plot(S[0], S_Pi, color='b', ls='--')\n",
    "ax1.plot(IC[0], IC_Pi, color='r', ls='-.')\n",
    "ax1.plot(Tot[0], Tot_Pi, color='k', ls='-')\n",
    "\n",
    "ax2.plot(S[0], S_PA*180/np.pi, color='b', ls='--')\n",
    "ax2.plot(IC[0], IC_PA*180/np.pi, color='r', ls='-.')\n",
    "ax2.plot(Tot[0], Tot_PA*180/np.pi, color='k', ls='-')\n",
    "\n",
    "ax3.plot(S[0], S_P, color='b', ls='--')\n",
    "ax3.plot(IC[0], IC_P, color='r', ls='-.')\n",
    "ax3.plot(Tot[0], Tot_P, color='k', ls='-')\n",
    "\n",
    "#load and plot data points for blazar\n",
    "data_plot = np.loadtxt('data/new_data_sed_CGRaBSJ0211+1051_XMM.txt')\n",
    "data_plot2 = np.loadtxt('data/new_data_sed_CGRaBSJ0211+1051.txt')\n",
    "J0211_pts = np.concatenate([data_plot,data_plot2], axis=0)\n",
    "ax3.errorbar(10**J0211_pts[:,0], 10**J0211_pts[:,2],\n",
    "             yerr=np.stack([np.abs(10**J0211_pts[:,2] - 10**(J0211_pts[:,2] - J0211_pts[:,3])),np.abs(10**J0211_pts[:,2] - 10**(J0211_pts[:,2] + J0211_pts[:,3]))]),\n",
    "             color='k', markersize=1, ls=\"\", marker='^')\n",
    "\n",
    "\n",
    "for ax in [ax1,ax2,ax3]:\n",
    "    ax.set_xscale('log')\n",
    "    ax.set_xlim(1e-9, 1e17)\n",
    "    ax.axvline(1e3,color='k',ls=\":\")\n",
    "    ax.axvline(1e4,color='k',ls=\":\")\n",
    "    \n",
    "    \n",
    "ax1.set_ylim(0, 1)\n",
    "ax2.set_ylim(-90, 90)\n",
    "ax3.set_yscale('log')\n",
    "ax3.set_ylim(1e-16, 1e-9)\n",
    "\n",
    "ax1.tick_params(labelbottom=False)\n",
    "ax2.tick_params(labelbottom=False)\n",
    "\n",
    "ax1.set_ylabel(r\"$p_0$\")\n",
    "ax2.set_ylabel(r\"$\\theta_0$\")\n",
    "ax3.set_ylabel(r\"$\\nu F_{\\nu}$ $[ergs^{-1}cm^{-2}]$\")\n",
    "ax3.set_xlabel(r\"$h\\nu$ [eV]\")"
   ]
  },
  {
   "cell_type": "code",
   "execution_count": null,
   "metadata": {
    "collapsed": true
   },
   "outputs": [],
   "source": []
  }
 ],
 "metadata": {
  "kernelspec": {
   "display_name": "Python 3.6.1 64-bit",
   "language": "python",
   "name": "python36164bite6d9904fbf3244a9be493cf1d38ee557"
  },
  "language_info": {
   "codemirror_mode": {
    "name": "ipython",
    "version": 3
   },
   "file_extension": ".py",
   "mimetype": "text/x-python",
   "name": "python",
   "nbconvert_exporter": "python",
   "pygments_lexer": "ipython3",
   "version": "3.6.1"
  }
 },
 "nbformat": 4,
 "nbformat_minor": 2
}
